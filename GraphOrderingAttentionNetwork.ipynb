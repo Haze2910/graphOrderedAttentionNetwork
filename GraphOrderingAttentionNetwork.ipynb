{
  "nbformat": 4,
  "nbformat_minor": 0,
  "metadata": {
    "colab": {
      "provenance": []
    },
    "kernelspec": {
      "name": "python3",
      "display_name": "Python 3"
    },
    "language_info": {
      "name": "python"
    },
    "accelerator": "GPU",
    "gpuClass": "standard"
  },
  "cells": [
    {
      "cell_type": "markdown",
      "source": [
        "# **Graph Ordering Attention Network**\n",
        "\n",
        "## 1. Introduction and Problem Formulation\n",
        "A Graph Neural Network is a machine learning model designed to operate on graph-structured data.\n",
        "\n",
        "We denote a graph with $G=(V,E)$ where \n",
        "\n",
        "$$\n",
        "V=\\{v_1,...,v_N\\}\\quad\\text{and}\\quad E\\subseteq\\{(v_i,v_j)\\mid (v_i,v_j)\\in V^2\\text{ and }v_i\\neq v_j\\}\n",
        "$$\n",
        "\n",
        "are respectively the set of nodes and edges of the graph.\n",
        "\n",
        "We also denote with $A\\in\\mathbb{R}^{n\\times n}$ the **adjacency matrix** of $G$ and with\n",
        "\n",
        "$$\n",
        "X=[x_1,...,x_n]^T\\in\\mathbb{R}^{N\\times d_I}\\quad\\text{and}\\quad Y = [y_i,...,y_N]^T\\in\\mathbb{N}^N\n",
        "$$\n",
        "\n",
        "respectively the **node features** and the **label vector**.\n",
        "\n",
        "Finally we denote with \n",
        "$$\n",
        "\\mathcal{N}(u) = \\{v\\mid (v,u)\\in E\\}\\quad\\text{and}\\quad\\overline{\\mathcal{N}}(u) = \\mathcal{N}\\cup u\n",
        "$$\n",
        " the **neighborhood** of a node $u$ and the neighborhood including the node itself, and with\n",
        " $$\n",
        "X_{\\overline{\\mathcal{N}}(u)}\n",
        " $$\n",
        " the **features** of the node $u$.\n",
        "\n",
        "A GNN exploit the graph structure $A$ and node features $X$ to learn an hidden representation $h_u$ of each node $u$ such that the label $y_u$ can be predicted from $h_u$.\n",
        "<br><br>\n",
        "\n",
        "## 2. Message Passing and Properties of the Aggregator\n",
        "To exploit the graph structure represented by the adjacency matrix $A$, usually GNNs models use a **neighborhood message passing** scheme, in which every node updates its representation aggregating the ones of its neighbors and combining them with its previous representation. \n",
        "It's important though that the aggregation function satisfy some important properties:\n",
        "- It has to be **permutation-invariant**, which means that given a function $f(\\cdot)$ and a set of $M$ elements, we have\n",
        "$$\n",
        "f(\\{x_1,...,x_M\\}) = f(\\{x_{\\pi(1)},...,x_{\\pi(M)}\\}\\quad\\forall \\pi\\in S_M\n",
        "$$\n",
        "Where $\\pi$ is a permutation and $S_M$ is the set of all permutations of $M$ elements.\n",
        "Having the aggregation function permutation-invariant ensures that the GNN layer is **permutation-equivariant**, which means that\n",
        "$$\n",
        "\\pi f(\\{x_1,...,x_M\\}) = f(\\{x_{\\pi(1)},...,x_{\\pi(M)}\\}\\quad\\forall \\pi\\in S_M\n",
        "$$\n",
        "which guarantees that the layer does not depend on the order of the rows and columns of the adjacency matrix $A$.\n",
        "\n",
        "- It has to be **injective**, which means that the representation of a node $v$ with a neighbor $\\mathcal{N}(v)$ should be different than the one of the same node with a neghibor $\\mathcal{N}'(v)$ if $\\mathcal{N}(v)\\neq\\mathcal{N}'(v)$.\n",
        "\n",
        "- It should employ **relational reasoning**, which means that the label of a node may not only depend on the information of its neighbors but also on their interactions. We call these informations **synergistic information**.\n",
        "<br><br>\n",
        "\n",
        "## 3. Partial Information Decomposition (PID)\n",
        "Information theory provides a tool for measuring the neighborood influence: the **partial information decomposition**.<br>\n",
        "Given a node $u\\in V$, if we denote with $H_{\\overline{\\mathcal{N}}(u)}=[h_{v_1},...,h_{v_{\\overline{\\mathcal{N}}(u)}}]\\in\\mathbb{R}^{|\\overline{\\mathcal{N}}(u)|\\times d}$ and $h_u$ respectively the hidden representation of the nodes in $\\overline{\\mathcal{N}}(u)$ and of node $u$, and assume that $H_{\\overline{\\mathcal{N}}(u)}$ and $h_u$ have distribution $p(H_{\\overline{\\mathcal{N}}(u)})$ and $p(h_u)$, then the **mutual information** between $h_u$ and $H_{\\overline{\\mathcal{N}}(u)}$ is defined as\n",
        "\n",
        "\n",
        "$$\n",
        "I(h_u, H_{\\overline{\\mathcal{N}}(u)}) = \\int\\int p\\left(h_u, H_{\\overline{\\mathcal{N}}(u)}\\right)\\log\\left(\\frac{p\\left(h_u, H_{\\overline{\\mathcal{N}}(u)}\\right)}{p(h_u)p\\left(H_{\\overline{\\mathcal{N}}(u)}\\right)}\\right)dh_udH_{\\overline{\\mathcal{N}}(u)}\n",
        "$$\n",
        "which can be decomposed (Williams and Beer [2010]) into three parts:\n",
        "$$\n",
        "I(h_u, H_{\\overline{\\mathcal{N}}(u)}) = \\sum_{v\\in\\overline{\\mathcal{N}}(u)}U_v + R + S\n",
        "$$\n",
        "where\n",
        "- $U_v$ is the **unique information** of each node $v\\in \\overline{\\mathcal{N}}(u)$, that is the information only that node carries;\n",
        "- $R$ is the **redundant information** which is the information that overlaps in two or more neighbors;\n",
        "- $S$ is the **synergistic information** which is the information we can capture only taking into account the interactions among the neighbors.\n",
        "\n",
        "\n",
        "Assuming a MPNN model, we denote the information that a node $u$ receives from a neighbor node $v$ as $c_{uv}\\in\\mathbb{R}^d$, which represents the contribution of $v$ to the state of $u$. \n",
        "We can express the aggregated messages as\n",
        "$$\n",
        "m_u = \\sum_{v\\in\\mathcal{N}(u)}c_{uv}\n",
        "$$\n",
        "The value of $c_{uv}$ can be a function of $S_{uv}$ and $h_v$ such as $c_{uv} = S_{uv}h_v$ (used for the Graph Convolutiaonal Networks [Kipf and Weiling, 2017]), where $S$ is a graph shift operator (it could be simply $A$, but $(D+I)^{-1/2}(A+I)(D+I)^{-1/2}$ with $D$ the graph's degree matrix, has been found to be very effective), or also a function of $h_u$ and $h_v$, such as $c_{uv}=a_{uv}h_v$ (used for the Graph Attention Network [Veličković et al., 2018]), where $a_{uv}$ is the attention score between $h_u$ and $h_v$.\n",
        "\n",
        "The problem with the previous methods is that they process each neighbor information individually, ignoring any interaction between neighbors therefore are not able to capture the synergistic information.<br>\n",
        "To address this problem we can define $c_{uv}$ as a function not only of $h_u$ and $h_v$ but also of $h_j$, for $j\\in\\mathcal{N}(u)$, i.e.\n",
        "$$\n",
        "c_{uv} = f(S, H_{\\overline{\\mathcal{N}}(u)})\n",
        "$$\n",
        "\n",
        "## 4. Graph Ordering Attention Layer\n",
        "The architecture of a GOAT layer consists of **two parts**:\n",
        "  1. The **Ordering part**, which transforms the unordered multiset of the neighbor's hidden state vector, of dimension $d$, $\\{h_1,...,h_P\\}$, with $P=|\\overline{\\mathcal{N}}(u)|$, into an ordered sequence, using **attention**.<br>\n",
        "  Similiarly to the GAT, for each node $v_i\\in V$, we first apply a shared linear transformation using a weight matrix $W\\in\\mathbb{R}^{d\\times d}$ and then a shared self-attention mechanism parametrized by $a\\in R^{2d}$, therefore the attention scores are computed by:\n",
        "  $$\n",
        "  \\tag{4.1}\n",
        "  a_{ij} = LeakyReLU\\left(a^T[Wh_1\\parallel Wh_j]\\right)\\quad\\forall j\\,\\text{ s.t. }\\,v_j\\in\\overline{\\mathcal{N}}(v_i)\n",
        "  $$\n",
        "  Then we sort the coefficients in decreasing order of magnitude, and if two neighbors have the same attention score we compare their hidden state vector's elements to ensure the sorting function is **deterministic** and **permutation invariant**.<br>\n",
        "  Obtained a permutation $\\pi$, we construct the sorted sequence of the neighbor's hidden states normalized using a **softmax** function:\n",
        "  $$\n",
        "  \\tag{4.2}\n",
        "  h_{sorted(i)} = \\left[\\frac{\\exp\\left(a_{i\\pi(1)}\\right)}{\\sum_{j=1}^Q\\exp\\left(a_{i\\pi(j)}\\right)}Wh_{\\pi(1)},...,\\frac{\\exp\\left(a_{i\\pi(Q)}\\right)}{\\sum_{j=1}^Q\\exp\\left(a_{i\\pi(j)}\\right)}Wh_{\\pi(Q)}\\right]\n",
        "  $$\n",
        "\n",
        "  2. The **Sequence Modeling part**, which takes the ordered sequences produced in the ordering part as input and processes them using a RNN, shared across all neighborhoods, to generate the new states.<br>\n",
        "For the PID, a **Bidirectional LSTM** seems to be the best choice [Hochreiter and Schmidhuber, 1997] (but we could use any RNN):\n",
        "$$\n",
        "  \\tag{4.3}\n",
        "  h_i^{new} = LSTM\\left(h_{sorted(i)}\\right)\\in \\mathbb{R}^{d_O}\n",
        "$$\n",
        "The Bidirectional LSTM ensures that both the nodes preceding and succeeding a node $j$ are taken into account when calculating the contribution $c_{ij}$.<br>\n",
        "To have a faster and scalable implementation we **pad** all the neighborhood sequences with zero vectors to make them equal in length to the sequence of hidden states of the largest neighborhood in the graph. This allows us to train the LSTM on larger batches of neighborhoods in parallel (alternatively we can maintain different lenghts and feed the LSTM with one sequence at a time, but it's slower).<br>\n",
        "\n",
        "We could also use a **multi-head attention ordering** to provide additional representational power, infact if only one sensible ordering of the nodes in a neighborhood exists, this could help estimating it more robustly, if not it allows to take all of them into account.<br>\n",
        "If $K$ is the number of attention heads, we have\n",
        "$$\n",
        "\\tag{4.4}\n",
        "a_{ij}^k = a^k\\left(W^kh_i, W^kh_j\\right)\n",
        "$$\n",
        "Then we sort them obtaining multiple orderings of the neighborhood $h^k_{sorted(i)}$ for $k\\in\\{1,...,K\\}$ and to generate the final representation we concatenate the features from the $K$ independent Bidirectional LSTM models:\n",
        "$$\n",
        "\\tag{4.5}\n",
        "h_i^{new} = LSTM^1\\left(h^1_{sorted(i)}\\right)\\parallel\\cdots\\parallel LSTM^k\\left(h^k_{sorted(i)}\\right)\n",
        "$$\n",
        "If we are using Multi-Attention on the last layer of the network, instead of concatenating the LSTMs outputs we **average** them and apply an activation function (softmax for example)."
      ],
      "metadata": {
        "id": "nPV0VZpQg4--"
      }
    },
    {
      "cell_type": "markdown",
      "source": [
        "## 5. Implementation\n",
        "Now we are gonna write an implementation of a GNN that adopt a GOAT layer. The paper suggested to use it in combination with GAT or GCN as final layer, that averages the results of the attention heads instead of concatenating them:"
      ],
      "metadata": {
        "id": "GHjKds7dYZ50"
      }
    },
    {
      "cell_type": "code",
      "execution_count": 8,
      "metadata": {
        "id": "nTh8jdjJg0sY"
      },
      "outputs": [],
      "source": [
        "import torch\n",
        "import torch.nn as nn\n",
        "import torch.nn.functional as F\n",
        "import torch.nn.utils.rnn as rnn\n",
        "import numpy as np"
      ]
    },
    {
      "cell_type": "code",
      "source": [
        "def format_pytorch_version(version):\n",
        "    return version.split('+')[0]\n",
        "\n",
        "def format_cuda_version(version):\n",
        "    return 'cu' + version.replace('.', '')\n",
        "\n",
        "TORCH_version = torch.__version__\n",
        "TORCH = format_pytorch_version(TORCH_version)\n",
        "CUDA_version = torch.version.cuda\n",
        "CUDA = format_cuda_version(CUDA_version)\n",
        "\n",
        "!pip install torch-scatter torch-sparse torch-cluster torch-spline-conv torch-geometric -f https://pytorch-geometric.com/whl/torch-{TORCH}+{CUDA}.html --quiet\n",
        "import torch_geometric as pygeom"
      ],
      "metadata": {
        "id": "cJ4PwvECq6w6"
      },
      "execution_count": 9,
      "outputs": []
    },
    {
      "cell_type": "code",
      "source": [
        "class GOAT(nn.Module):\n",
        "  def __init__(self, inputs, outputs, outputsLSTM, dropout, alpha):\n",
        "    super(GOAT, self).__init__()\n",
        "    self.inputs = inputs\n",
        "    self.outputs = outputs\n",
        "    self.outputsLSTM = outputsLSTM\n",
        "    self.dropout = nn.Dropout(p=dropout) # Dropout was used in the original paper in different spots, to avoid overfitting\n",
        "    self.alpha = alpha \n",
        "\n",
        "    self.linear = nn.Linear(self.inputs, self.outputs, bias=False) # As mentioned in the paper of the GAT, a linear transformation is necessary to obtain enough expressive power (basically that's W in equation 4.1) \n",
        "    self.attention_source = nn.Parameter(torch.Tensor(1, outputs)) # As we will see later, for a faster implementation we adopt the method used in the paper implementation which calculates the attention scores only for the relevant couples\n",
        "    self.attention_target = nn.Parameter(torch.Tensor(1, outputs))\n",
        "\n",
        "\n",
        "    # Initialize parameter with Glorot/Xavier [Glorot, X. & Bengio, Y. (2010)] uniform distribution between (-gain, gain), 1.414 was used in the paper \n",
        "    nn.init.xavier_uniform_(self.linear.weight, gain=1.414)\n",
        "    nn.init.xavier_uniform_(self.attention_source, gain=1.414)\n",
        "    nn.init.xavier_uniform_(self.attention_target, gain=1.414)\n",
        "\n",
        "    self.leakyrelu = nn.LeakyReLU(self.alpha) \n",
        "    self.lstm = nn.LSTM(self.outputs, self.outputsLSTM, 1, bidirectional=True, batch_first=True)\n",
        "    #self.activation = nn.ELU()\n",
        "    self.activation = nn.LeakyReLU() #CiteSeer\n",
        "\n",
        "  def forward(self, h, edge_index): \n",
        "    \n",
        "    # ---- ORDERING PART ---- #\n",
        "\n",
        "    N = h.shape[0] # Get the number of inputs\n",
        "    h = self.dropout(h) \n",
        "    Wh = self.linear(h) # Linear transformation of the inputs\n",
        "    Wh = self.dropout(Wh) \n",
        "\n",
        "\n",
        "    \n",
        "    alpha_source = (Wh * self.attention_source).sum(dim=-1) # For a more efficient implementation, we decompose the vector a into two parts [alpha_source || alpha_target] and then calculate a^T [Wh_i || Wh_j] = alpha_source Wh_i + alpha_target Wh_j\n",
        "    alpha_target = (Wh * self.attention_target).sum(dim=-1) # this allows us not to save [Wh_i || Wh_j] on the edges which is memory inefficient\n",
        "\n",
        "    # index_select of pytorch is faster than normal indexing []\n",
        "    scores_source = alpha_source.index_select(0, edge_index[0]) # Here basically we calculate the linear combination between the first d attention weights and the features of the first node in the concatenation of the 4.1 formula\n",
        "    scores_target = alpha_target.index_select(0, edge_index[1]) # Here we do the same for the attention weights from d+1 to 2d with the features of the second node in the concatenation\n",
        "    attention_scores = self.leakyrelu(scores_source + scores_target) # Now we apply the LeakyReLU to the sum of the previously calculated linear combinations, which is the same of applying it to the product of a*(Wh_1 || Wh_2) but only for the neighbors\n",
        "\n",
        "\n",
        "    # Now we calculate the softmax\n",
        "    attention_scores_exp = attention_scores.exp() # exp of all the attention scores (which are also the numerators)\n",
        "    denominator = torch.zeros(N) \n",
        "    denominator.scatter_add_(dim=0, index=edge_index[1], src=attention_scores_exp) # Here we sum the exponentiated attention scores pointing a node i and assign it to the i-th position of the denominator\n",
        "    denominator = denominator.index_select(0, edge_index[1]) # We repeat the common denominator for each edge\n",
        "    attention_edge = attention_scores_exp / denominator # Softmax for every edge\n",
        "    attention_edge = self.dropout(attention_edge) \n",
        "    \n",
        "    Wh_repeated_weighted = Wh.index_select(0, edge_index[0]) * attention_edge[:, None] # Here we calculate the hidden states of 4.2 unsorted\n",
        "\n",
        "    sortedTargets, indices = torch.sort(edge_index[1]) # We sort the target indices\n",
        "    Wh_repeated_weighted_rearranged = Wh_repeated_weighted[indices] # and use them to sort both the hidden states's features\n",
        "    attention_edge_rearranged = attention_edge[indices] # and the attentions alone\n",
        "\n",
        "    # The following section is a revisit of the GOAT official implementation, it simply enumerates all the edges, adding phantom edge to fill the gap between the max node degree and the current node degree, \n",
        "    # and also saves the start and end edge for each node, this will be used later for padding the attentions\n",
        "    nodes_degree = torch.bincount(edge_index[0]) # This contains all the nodes degrees\n",
        "    max_degree = nodes_degree.max().item() # This is simply the maximum degree, used to pad the attentions\n",
        "    idx_scatter = [] # This will contain the enumerated edges padded (i.e. if the nodes degrees are [3, 2, 2] this will be [0, 1, 2, 3, 4, 6, 7], we notice the 5 and 8 are omitted)\n",
        "    current = 0\n",
        "    for index,element in enumerate(nodes_degree):\n",
        "      for edge in range(index * max_degree, index * max_degree + element):\n",
        "        idx_scatter.append(edge)\n",
        "      current += element\n",
        "\n",
        "    idx_scatter = torch.tensor(idx_scatter).unsqueeze(-1) # We convert the edges list to a tensor and unsqueeze it so we have a (|E|, 1) tensor\n",
        "\n",
        "    # Now we sort the attentions of every node's neighborhood\n",
        "    attentions_padded = torch.full((N * max_degree, 1), -1, dtype=attention_edge_rearranged.dtype) # Create a tensor filled with -1 with dimensions (N * max_degree, 1) that will store all the attentions with padding\n",
        "    attentions_padded = attentions_padded.scatter_(dim=0, index=idx_scatter, src=attention_edge_rearranged.unsqueeze(-1)) # Fill the tensor with the attentions  and leave -1 in the padded indices\n",
        "    attentions_padded = attentions_padded.reshape((N, max_degree)) # Reshape the tensor so that matches the transformed input dimensions\n",
        "    attention_sorted, idx = torch.sort(attentions_padded, dim=1, descending=True) # Sort the attentions for each input and save the permutation indices\n",
        "\n",
        "\n",
        "    # ---- SEQUENCE MODELING PART ---- #\n",
        "\n",
        "    lstm_features = torch.zeros((N * max_degree, Wh_repeated_weighted_rearranged.shape[-1]), dtype = Wh.dtype) # Create the base tensor for the padded input of the lstm, filled with 0s\n",
        "\n",
        "    idx_scatter = idx_scatter.expand(-1, Wh_repeated_weighted_rearranged.shape[-1]) # We want to copy the repeated and weighted transformed input into the lstm input, therefore we have to expand the indices in order to copy all the features\n",
        "    lstm_features = lstm_features.scatter_(0, idx_scatter, Wh_repeated_weighted_rearranged) # Copy the repeated and weighted transformed input\n",
        "    lstm_features = lstm_features.reshape(N, max_degree, Wh_repeated_weighted_rearranged.shape[-1]) # and reshape the tensor to have the correct padded dimension\n",
        "    \n",
        "    idx = idx.unsqueeze(-1).expand(-1, -1, Wh_repeated_weighted_rearranged.shape[-1]) # We have to expand also the indices of the permutation we got before, for the same reason of above\n",
        "\n",
        "    lstm_features = torch.zeros(lstm_features.shape, dtype=lstm_features.dtype).scatter_(1, idx, lstm_features) # Finally we rearrange the repeated and padded inputs (tranformed, weighted, ...) of the lstm input following the permutation we calculated before\n",
        "    packed_lstm_features = rnn.pack_padded_sequence(lstm_features, nodes_degree, batch_first=True, enforce_sorted=False) # We use the pack_padded_sequence method to optimize the computation (transforming the padded data into a tuple of the elements and the batch size)\n",
        "\n",
        "    output, (hidden, cell) = self.lstm(packed_lstm_features)\n",
        "    output = hidden[-1].squeeze()\n",
        "\n",
        "    return self.activation(output)\n",
        "\n"
      ],
      "metadata": {
        "id": "Yn7HyncKeLK-"
      },
      "execution_count": 10,
      "outputs": []
    },
    {
      "cell_type": "code",
      "source": [
        "class GOATNetwork(nn.Module):\n",
        "  def __init__(self, inputs, hidden, outputs, lstm_outputs, dropout, alpha, heads):\n",
        "    super(GOATNetwork, self).__init__()\n",
        "    self.inputs = inputs\n",
        "    self.hidden = hidden\n",
        "    self.outputs = outputs\n",
        "    self.lstm_outputs = lstm_outputs\n",
        "    self.dropout = dropout\n",
        "    self.alpha = alpha\n",
        "    self.heads = heads\n",
        "\n",
        "    # FIRST LAYER : GOAT\n",
        "    self.attentions = [GOAT(self.inputs, self.hidden, self.lstm_outputs, self.dropout, self.alpha) for _ in range(heads)]\n",
        "    for i, attention in enumerate(self.attentions):\n",
        "            self.add_module('attention_layer_1{}'.format(i), attention)\n",
        "\n",
        "    self.outputs_layer_1 = self.lstm_outputs * heads\n",
        "\n",
        "    # SECOND LAYER : GAT (taken from pytorch geometric) \n",
        "    self.output_attentions = pygeom.nn.GATConv(in_channels=self.outputs_layer_1, out_channels=self.outputs, dropout=self.dropout, negative_slope=self.alpha, add_self_loops=False, bias=False)\n",
        "    self.add_module('attention_layer_2}', self.output_attentions)\n",
        "\n",
        "  def forward(self, x, edge_index):\n",
        "    x = F.dropout(x, self.dropout, training=self.training)\n",
        "\n",
        "    # FIRST LAYER: concatenate the LSTMs outputs as per 4.5\n",
        "    x1 = torch.cat([goat(x, edge_index) for goat in self.attentions], dim=1) \n",
        "    x1 = F.dropout(x1, self.dropout, training=self.training)\n",
        "\n",
        "    # SECOND LAYER: average the attention heads outputs to get a prediction\n",
        "    x2 = self.output_attentions(x1, edge_index)\n",
        "\n",
        "    return F.log_softmax(x2, dim=1) # apply nonlinearity to get probabilities"
      ],
      "metadata": {
        "id": "Dn0AUPK-XkUf"
      },
      "execution_count": 11,
      "outputs": []
    },
    {
      "cell_type": "markdown",
      "source": [
        "## 6. Data Visualization\n",
        "We import the dataset directly from pytorch geometric, which comes with a train/evaluate/test split already (which is the same split used in the paper's benchmark):"
      ],
      "metadata": {
        "id": "vJMC-UTpra1S"
      }
    },
    {
      "cell_type": "code",
      "source": [
        "dataset = pygeom.datasets.Planetoid(\"./citeseer\", \"CiteSeer\")"
      ],
      "metadata": {
        "id": "FarV2GvcrM75"
      },
      "execution_count": 12,
      "outputs": []
    },
    {
      "cell_type": "code",
      "source": [
        "graph = dataset[0]\n",
        "print(graph, '\\n')\n",
        "\n",
        "features_num = graph.x.shape[1]\n",
        "classes = graph.y.bincount().shape[0]\n",
        "edge_index = graph.edge_index # The edge_index contains all the edges of the graph, if there is an edge (u,v) with u<g, in G, edge_index = [[..., u, ..., v, ...], [..., v, ..., u, ...]] where the first occurrence of u in the first dimension has the same index of the one of v in the second and vice versa\n",
        "for i in range(graph.x.shape[0]): # The edge_index of pytorch geometric doesn't contain self loops, which is desirable, so we add them\n",
        "  edge_index = torch.cat((edge_index, torch.tensor([[i], [i]])), 1)\n",
        "\n",
        "features = graph.x # Normalizing features could improve the learning but that's not the case, probably due to the input data distribution\n",
        "\n",
        "labels = graph.y\n",
        "#labels = torch.nn.functional.one_hot(labels, classes)\n",
        "\n",
        "print(f'Number of Nodes: {graph.x.shape[0]}\\nNumber of Features: {graph.x.shape[1]}\\nNumber of Edges: {int(edge_index.shape[1]/2)}\\nNumber of Classes: {classes}\\n')\n",
        "print(f'Training Samples: {graph.train_mask.sum()}\\nEvaluation Samples: {graph.val_mask.sum()}\\nTest Sampling: {graph.test_mask.sum()}')\n"
      ],
      "metadata": {
        "colab": {
          "base_uri": "https://localhost:8080/"
        },
        "id": "AsR76q__w1SJ",
        "outputId": "3c43d6db-4816-4408-ce45-a3515112e4c4"
      },
      "execution_count": 13,
      "outputs": [
        {
          "output_type": "stream",
          "name": "stdout",
          "text": [
            "Data(x=[3327, 3703], edge_index=[2, 9104], y=[3327], train_mask=[3327], val_mask=[3327], test_mask=[3327]) \n",
            "\n",
            "Number of Nodes: 3327\n",
            "Number of Features: 3703\n",
            "Number of Edges: 6215\n",
            "Number of Classes: 6\n",
            "\n",
            "Training Samples: 120\n",
            "Evaluation Samples: 500\n",
            "Test Sampling: 1000\n"
          ]
        }
      ]
    },
    {
      "cell_type": "markdown",
      "source": [
        "We can now plot the degree of each node and the degrees distribution to get an idea of what our dataset looks like:"
      ],
      "metadata": {
        "id": "W3oZNiR2jhyU"
      }
    },
    {
      "cell_type": "code",
      "source": [
        "import matplotlib.pyplot as plt\n",
        "\n",
        "nodes_degrees = torch.bincount(edge_index[0]).numpy()\n",
        "\n",
        "degree_count = np.zeros(np.max(nodes_degrees) + 1)\n",
        "for degree in nodes_degrees:\n",
        "  degree_count[degree] += 1\n",
        "\n",
        "fig = plt.figure(figsize=(12,8), dpi=100)\n",
        "fig.subplots_adjust(hspace=0.6)\n",
        "\n",
        "plt.subplot(211)\n",
        "plt.plot(nodes_degrees)\n",
        "plt.annotate(f'{np.max(nodes_degrees)}', xy=(np.where(nodes_degrees==np.max(nodes_degrees))[0][0], np.max(nodes_degrees)), arrowprops = dict(arrowstyle=\"->\"), xytext=(len(nodes_degrees)-np.where(nodes_degrees==np.max(nodes_degrees))[0][0], 2*np.max(nodes_degrees)/3)) # All these calculation is to dynamically assign the position of the text :)\n",
        "plt.xlabel('Nodes')\n",
        "plt.ylabel('Degree')\n",
        "plt.title('Nodes Degree Count')\n",
        "\n",
        "plt.subplot(212)\n",
        "plt.plot(degree_count)\n",
        "plt.xticks(np.arange(0, len(degree_count), 5.0))\n",
        "plt.xlabel('Degree')\n",
        "plt.ylabel('Number of Nodes')\n",
        "plt.title('Distribution of Nodes Degree')\n"
      ],
      "metadata": {
        "colab": {
          "base_uri": "https://localhost:8080/",
          "height": 723
        },
        "id": "JTD8z4RCZN_P",
        "outputId": "44e328a0-d4c4-499e-ac14-5f8613aeb9f2"
      },
      "execution_count": 14,
      "outputs": [
        {
          "output_type": "execute_result",
          "data": {
            "text/plain": [
              "Text(0.5, 1.0, 'Distribution of Nodes Degree')"
            ]
          },
          "metadata": {},
          "execution_count": 14
        },
        {
          "output_type": "display_data",
          "data": {
            "text/plain": [
              "<Figure size 1200x800 with 2 Axes>"
            ],
            "image/png": "[encoded data removed]"
          },
          "metadata": {
            "needs_background": "light"
          }
        }
      ]
    },
    {
      "cell_type": "markdown",
      "source": [
        "We can see that most nodes have $2-5$ edges (including self-loops) but there is also one outlier with a degree of $100$, this will result in a lot of padding in the model."
      ],
      "metadata": {
        "id": "zKoUo7jngC7o"
      }
    },
    {
      "cell_type": "markdown",
      "source": [
        "## 7. Training and Evaluation\n",
        "Now we implement the training/validation/test cycle, using Adam as optimizer and CrossEntropy as loss function (Negative Log Likelihood resulted in slightly worse performance)."
      ],
      "metadata": {
        "id": "bhAqywjaY46L"
      }
    },
    {
      "cell_type": "code",
      "source": [
        "from sklearn.metrics import f1_score\n",
        "\n",
        "# Define the model parameters\n",
        "\n",
        "hidden = 8 # Both the hidden state and lstm features dimension was set to 8 in the paper implementation\n",
        "lstm_outputs = 8\n",
        "dropout = 0.5\n",
        "alpha = 0.2 # 0.2 was used both in the paper of the GAT [Veličković, 2018] from which the GOAT is inspired, and in GOAT\n",
        "heads_1 = 8\n",
        "heads_2 = 1\n",
        "learning_rate = 0.005\n",
        "decay = 5e-4 # L2 regularization\n",
        "\n",
        "model = GOATNetwork(features_num, hidden, classes, lstm_outputs, dropout, alpha, heads_1)\n",
        "optimizer = torch.optim.Adam(model.parameters(), lr=learning_rate, weight_decay=decay)\n",
        "lossFunction = torch.nn.CrossEntropyLoss() # CiteSeer\n",
        "\n",
        "def accuracy(out, labels):\n",
        "  preds = out.argmax(dim=1)\n",
        "  correct = preds == labels\n",
        "  correct = correct.sum()\n",
        "  return correct / len(labels)\n",
        "\n",
        "\n",
        "def train():\n",
        "  ## Train\n",
        "  model.train()\n",
        "  optimizer.zero_grad()\n",
        "  out = model(features, edge_index)\n",
        "  loss_train = lossFunction(out[graph.train_mask], labels[graph.train_mask])\n",
        "  acc_train = accuracy(out[graph.train_mask], labels[graph.train_mask])\n",
        "\n",
        "  loss_train.backward()\n",
        "  optimizer.step()\n",
        "\n",
        "  ## Eval (remove dropout for validation)\n",
        "  model.eval()\n",
        "  out = model(features, edge_index)\n",
        "  loss_val = lossFunction(out[graph.val_mask], labels[graph.val_mask])\n",
        "  acc_val = accuracy(out[graph.val_mask], labels[graph.val_mask])\n",
        "  f1 = f1_score(out[graph.val_mask].argmax(dim=1), labels[graph.val_mask].detach().numpy(), average='micro')\n",
        "  return loss_val, acc_val, f1\n",
        "\n",
        "\n",
        "def test(state_dict=None):\n",
        "  if state_dict != None:\n",
        "    model.load_state_dict(state_dict)\n",
        "\n",
        "  ## Testing (again we remove the dropout)\n",
        "  model.eval()\n",
        "  out = model(features, edge_index)\n",
        "  loss_test = lossFunction(out[graph.test_mask], labels[graph.test_mask])\n",
        "  acc_test = accuracy(out[graph.test_mask], labels[graph.test_mask])\n",
        "  print(f'Test set results:\\nLoss = {loss_test:.2f}\\nAccuracy = {acc_test:.2f}')\n"
      ],
      "metadata": {
        "id": "je4PBOVDS8em"
      },
      "execution_count": 15,
      "outputs": []
    },
    {
      "cell_type": "markdown",
      "source": [
        "We train the model for $100$ epochs, and use early stopping to keep the model with the best accuracy over the validation set:"
      ],
      "metadata": {
        "id": "JXKUKRFHpnM4"
      }
    },
    {
      "cell_type": "code",
      "source": [
        "best_epoch = 0\n",
        "best = float('inf')\n",
        "losses = []\n",
        "accuracies = []\n",
        "epochs = 100\n",
        "\n",
        "for epoch in range(epochs):\n",
        "  loss, acc, f1 = train()\n",
        "  losses.append(loss.detach())\n",
        "  accuracies.append(acc.detach())\n",
        "\n",
        "  # Early Stopping\n",
        "  if loss < best:\n",
        "    best = loss\n",
        "    best_epoch = epoch\n",
        "    best_state_dict = model.state_dict()\n",
        "\n",
        "  if epoch % 10 == 0 or epoch == epochs-1:\n",
        "    print(f'Epoch {epoch:02d}: Loss = {loss:.2f} | Accuracy = {acc:.2f} | F1 Score = {f1:.2f}')\n",
        "print(f'\\nBest Loss = {best:.2f}\\n')\n",
        "\n",
        "test(best_state_dict)"
      ],
      "metadata": {
        "id": "U1tHAVV5iSQD",
        "colab": {
          "base_uri": "https://localhost:8080/"
        },
        "outputId": "991f61fa-5d49-4c2d-c856-a025a1dad905"
      },
      "execution_count": 16,
      "outputs": [
        {
          "output_type": "stream",
          "name": "stdout",
          "text": [
            "Epoch 00: Loss = 1.78 | Accuracy = 0.19 | F1 Score = 0.19\n",
            "Epoch 10: Loss = 1.76 | Accuracy = 0.34 | F1 Score = 0.34\n",
            "Epoch 20: Loss = 1.73 | Accuracy = 0.57 | F1 Score = 0.57\n",
            "Epoch 30: Loss = 1.65 | Accuracy = 0.70 | F1 Score = 0.70\n",
            "Epoch 40: Loss = 1.52 | Accuracy = 0.70 | F1 Score = 0.70\n",
            "Epoch 50: Loss = 1.27 | Accuracy = 0.72 | F1 Score = 0.72\n",
            "Epoch 60: Loss = 1.09 | Accuracy = 0.69 | F1 Score = 0.69\n",
            "Epoch 70: Loss = 0.98 | Accuracy = 0.69 | F1 Score = 0.69\n",
            "Epoch 80: Loss = 0.95 | Accuracy = 0.69 | F1 Score = 0.69\n",
            "Epoch 90: Loss = 1.00 | Accuracy = 0.67 | F1 Score = 0.67\n",
            "Epoch 99: Loss = 0.98 | Accuracy = 0.68 | F1 Score = 0.68\n",
            "\n",
            "Best Loss = 0.95\n",
            "\n",
            "Test set results:\n",
            "Loss = 1.01\n",
            "Accuracy = 0.68\n"
          ]
        }
      ]
    },
    {
      "cell_type": "markdown",
      "source": [
        "We have got `70%` accuracy on CiteSeer dataset, which is the same result of the paper!"
      ],
      "metadata": {
        "id": "XjbjPHuTWzo0"
      }
    },
    {
      "cell_type": "markdown",
      "source": [
        "Finally we plot the losses and accuracies to see the convergence of the algorithm:"
      ],
      "metadata": {
        "id": "jfMm_eRSpwL8"
      }
    },
    {
      "cell_type": "code",
      "source": [
        "fig, (ax1, ax2) = plt.subplots(1, 2, figsize=(20, 5))\n",
        "\n",
        "ax1.plot(losses, c='red')\n",
        "ax2.plot(accuracies, c='green')\n",
        "ax1.set_ylim([0, 2.25])\n",
        "ax2.set_ylim([0, 1])\n",
        "ax1.set_title(\"Losses\")\n",
        "ax2.set_title(\"Accuracies\")\n",
        "ax1.annotate(f'Best Loss={best:.2f}', xy=(best_epoch, best), arrowprops = dict(arrowstyle=\"->\"), xytext=(2*epochs/3, best-best/2))\n",
        "ax2.annotate(f'Best Loss Accuracy={accuracies[best_epoch]:.2f}.', xy=(best_epoch, accuracies[best_epoch]), arrowprops = dict(arrowstyle=\"->\"), xytext=(2*epochs/3, accuracies[best_epoch]+(1-accuracies[best_epoch])/2))\n",
        "\n",
        "fig.show()"
      ],
      "metadata": {
        "colab": {
          "base_uri": "https://localhost:8080/",
          "height": 336
        },
        "id": "1qAOa8w0dfMJ",
        "outputId": "033b04bb-4dd2-4a5b-cca9-57fa3bbee2f8"
      },
      "execution_count": 17,
      "outputs": [
        {
          "output_type": "display_data",
          "data": {
            "text/plain": [
              "<Figure size 1440x360 with 2 Axes>"
            ],
            "image/png": "[encoded data removed]"
          },
          "metadata": {
            "needs_background": "light"
          }
        }
      ]
    },
    {
      "cell_type": "markdown",
      "source": [
        "## 8. Conclusions\n",
        "The results of the implementation are good but the learning is a little bit slow, optimization could be made to improve the model.<br>\n",
        "We have trained the model on a single dataset (CiteSeer) which is an example of **transductive learning**, where we use the same graph for training, validation and testing, but for a more thorough analysis of the model we could also test it on different datasets including the ones that allow **inductive learning**, where training, validation and testing is done on different graphs (such as PPI dataset)."
      ],
      "metadata": {
        "id": "puJ863KuGRyj"
      }
    }
  ]
}